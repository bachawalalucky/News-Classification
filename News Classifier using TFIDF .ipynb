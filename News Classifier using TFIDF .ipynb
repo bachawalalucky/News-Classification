{
 "cells": [
  {
   "cell_type": "markdown",
   "id": "553f7e39",
   "metadata": {},
   "source": [
    "## Importing libraries"
   ]
  },
  {
   "cell_type": "code",
   "execution_count": 1,
   "id": "ffc944ba",
   "metadata": {},
   "outputs": [],
   "source": [
    "import pandas as pd\n",
    "import numpy as np\n",
    "import warnings\n",
    "warnings.filterwarnings('ignore')"
   ]
  },
  {
   "cell_type": "markdown",
   "id": "e85e5c02",
   "metadata": {},
   "source": [
    "## Data Reading"
   ]
  },
  {
   "cell_type": "code",
   "execution_count": 2,
   "id": "150feb95",
   "metadata": {},
   "outputs": [
    {
     "data": {
      "text/html": [
       "<div>\n",
       "<style scoped>\n",
       "    .dataframe tbody tr th:only-of-type {\n",
       "        vertical-align: middle;\n",
       "    }\n",
       "\n",
       "    .dataframe tbody tr th {\n",
       "        vertical-align: top;\n",
       "    }\n",
       "\n",
       "    .dataframe thead th {\n",
       "        text-align: right;\n",
       "    }\n",
       "</style>\n",
       "<table border=\"1\" class=\"dataframe\">\n",
       "  <thead>\n",
       "    <tr style=\"text-align: right;\">\n",
       "      <th></th>\n",
       "      <th>category</th>\n",
       "      <th>text</th>\n",
       "    </tr>\n",
       "  </thead>\n",
       "  <tbody>\n",
       "    <tr>\n",
       "      <th>0</th>\n",
       "      <td>tech</td>\n",
       "      <td>tv future in the hands of viewers with home th...</td>\n",
       "    </tr>\n",
       "    <tr>\n",
       "      <th>1</th>\n",
       "      <td>business</td>\n",
       "      <td>worldcom boss  left books alone  former worldc...</td>\n",
       "    </tr>\n",
       "    <tr>\n",
       "      <th>2</th>\n",
       "      <td>sport</td>\n",
       "      <td>tigers wary of farrell  gamble  leicester say ...</td>\n",
       "    </tr>\n",
       "    <tr>\n",
       "      <th>3</th>\n",
       "      <td>sport</td>\n",
       "      <td>yeading face newcastle in fa cup premiership s...</td>\n",
       "    </tr>\n",
       "    <tr>\n",
       "      <th>4</th>\n",
       "      <td>entertainment</td>\n",
       "      <td>ocean s twelve raids box office ocean s twelve...</td>\n",
       "    </tr>\n",
       "  </tbody>\n",
       "</table>\n",
       "</div>"
      ],
      "text/plain": [
       "        category                                               text\n",
       "0           tech  tv future in the hands of viewers with home th...\n",
       "1       business  worldcom boss  left books alone  former worldc...\n",
       "2          sport  tigers wary of farrell  gamble  leicester say ...\n",
       "3          sport  yeading face newcastle in fa cup premiership s...\n",
       "4  entertainment  ocean s twelve raids box office ocean s twelve..."
      ]
     },
     "execution_count": 2,
     "metadata": {},
     "output_type": "execute_result"
    }
   ],
   "source": [
    "df = pd.read_csv('news-data.csv')\n",
    "df.head()"
   ]
  },
  {
   "cell_type": "code",
   "execution_count": 3,
   "id": "092e34a0",
   "metadata": {},
   "outputs": [
    {
     "data": {
      "text/plain": [
       "(2225, 2)"
      ]
     },
     "execution_count": 3,
     "metadata": {},
     "output_type": "execute_result"
    }
   ],
   "source": [
    "df.shape"
   ]
  },
  {
   "cell_type": "code",
   "execution_count": 4,
   "id": "70b10376",
   "metadata": {},
   "outputs": [
    {
     "name": "stdout",
     "output_type": "stream",
     "text": [
      "<class 'pandas.core.frame.DataFrame'>\n",
      "RangeIndex: 2225 entries, 0 to 2224\n",
      "Data columns (total 2 columns):\n",
      " #   Column    Non-Null Count  Dtype \n",
      "---  ------    --------------  ----- \n",
      " 0   category  2225 non-null   object\n",
      " 1   text      2225 non-null   object\n",
      "dtypes: object(2)\n",
      "memory usage: 34.9+ KB\n"
     ]
    }
   ],
   "source": [
    "df.info()"
   ]
  },
  {
   "cell_type": "code",
   "execution_count": 5,
   "id": "b0444131",
   "metadata": {},
   "outputs": [
    {
     "data": {
      "text/plain": [
       "category    0\n",
       "text        0\n",
       "dtype: int64"
      ]
     },
     "execution_count": 5,
     "metadata": {},
     "output_type": "execute_result"
    }
   ],
   "source": [
    "df.isna().sum()"
   ]
  },
  {
   "cell_type": "code",
   "execution_count": 6,
   "id": "42270a45",
   "metadata": {},
   "outputs": [
    {
     "data": {
      "text/plain": [
       "(2126, 2)"
      ]
     },
     "execution_count": 6,
     "metadata": {},
     "output_type": "execute_result"
    }
   ],
   "source": [
    "df = df.drop_duplicates()\n",
    "df.shape"
   ]
  },
  {
   "cell_type": "code",
   "execution_count": 7,
   "id": "18162c3a",
   "metadata": {},
   "outputs": [],
   "source": [
    "df = df.reset_index() # Need to do reset of index values of removel of duplicated indexs values"
   ]
  },
  {
   "cell_type": "code",
   "execution_count": 8,
   "id": "0f83f149",
   "metadata": {},
   "outputs": [
    {
     "data": {
      "text/plain": [
       "5"
      ]
     },
     "execution_count": 8,
     "metadata": {},
     "output_type": "execute_result"
    }
   ],
   "source": [
    "len(df.category.unique())"
   ]
  },
  {
   "cell_type": "code",
   "execution_count": 9,
   "id": "47523ce8",
   "metadata": {},
   "outputs": [
    {
     "data": {
      "text/plain": [
       "sport            504\n",
       "business         503\n",
       "politics         403\n",
       "entertainment    369\n",
       "tech             347\n",
       "Name: category, dtype: int64"
      ]
     },
     "execution_count": 9,
     "metadata": {},
     "output_type": "execute_result"
    }
   ],
   "source": [
    "df.category.value_counts()"
   ]
  },
  {
   "cell_type": "markdown",
   "id": "2dbf649c",
   "metadata": {},
   "source": [
    "## Data cleaning and preporcessing"
   ]
  },
  {
   "cell_type": "code",
   "execution_count": 10,
   "id": "d0fcfd7e",
   "metadata": {},
   "outputs": [],
   "source": [
    "import nltk\n",
    "import re\n",
    "from nltk.corpus import stopwords\n",
    "\n",
    "special_char_remover = re.compile('[/(){}\\[\\]\\@,:;?$''\"\"]')\n",
    "extra_symbol_removel = re.compile('[^0-9a-z #+_]')\n",
    "stop_words = stopwords.words('english')\n",
    "\n",
    "def clean_text(text):\n",
    "    text = text.lower()\n",
    "    text = special_char_remover.sub(' ',text)\n",
    "    text = extra_symbol_removel.sub('', text)\n",
    "    text = ' '.join((word) for word in text.split() if word not in stop_words)\n",
    "    return text\n",
    "df['text'] = df['text'].apply(clean_text)"
   ]
  },
  {
   "cell_type": "markdown",
   "id": "1e3a8f08",
   "metadata": {},
   "source": [
    "## TfidfVectorizer"
   ]
  },
  {
   "cell_type": "code",
   "execution_count": 11,
   "id": "940bf13c",
   "metadata": {},
   "outputs": [],
   "source": [
    "from sklearn.feature_extraction.text import TfidfVectorizer\n",
    "tfidf = TfidfVectorizer(max_features= 1500, ngram_range=(1, 2))\n",
    "\n",
    "X = tfidf.fit_transform(df['text']).toarray()"
   ]
  },
  {
   "cell_type": "code",
   "execution_count": 12,
   "id": "0026da0e",
   "metadata": {},
   "outputs": [
    {
     "data": {
      "text/plain": [
       "array([[0.02854708, 0.        , 0.        , ..., 0.        , 0.        ,\n",
       "        0.        ],\n",
       "       [0.05243374, 0.        , 0.        , ..., 0.        , 0.        ,\n",
       "        0.        ],\n",
       "       [0.        , 0.        , 0.        , ..., 0.        , 0.        ,\n",
       "        0.        ],\n",
       "       ...,\n",
       "       [0.05403895, 0.        , 0.05869556, ..., 0.        , 0.        ,\n",
       "        0.        ],\n",
       "       [0.0370173 , 0.        , 0.        , ..., 0.        , 0.        ,\n",
       "        0.        ],\n",
       "       [0.        , 0.        , 0.        , ..., 0.        , 0.        ,\n",
       "        0.        ]])"
      ]
     },
     "execution_count": 12,
     "metadata": {},
     "output_type": "execute_result"
    }
   ],
   "source": [
    "X"
   ]
  },
  {
   "cell_type": "code",
   "execution_count": 13,
   "id": "2e2650a1",
   "metadata": {},
   "outputs": [
    {
     "data": {
      "text/plain": [
       "1500"
      ]
     },
     "execution_count": 13,
     "metadata": {},
     "output_type": "execute_result"
    }
   ],
   "source": [
    "len(X[0])"
   ]
  },
  {
   "cell_type": "code",
   "execution_count": 14,
   "id": "b0e19ea8",
   "metadata": {},
   "outputs": [],
   "source": [
    "y = df.category"
   ]
  },
  {
   "cell_type": "code",
   "execution_count": 15,
   "id": "a7f044ba",
   "metadata": {},
   "outputs": [
    {
     "data": {
      "text/plain": [
       "0                tech\n",
       "1            business\n",
       "2               sport\n",
       "3               sport\n",
       "4       entertainment\n",
       "            ...      \n",
       "2121         business\n",
       "2122         politics\n",
       "2123    entertainment\n",
       "2124         politics\n",
       "2125            sport\n",
       "Name: category, Length: 2126, dtype: object"
      ]
     },
     "execution_count": 15,
     "metadata": {},
     "output_type": "execute_result"
    }
   ],
   "source": [
    "y"
   ]
  },
  {
   "cell_type": "code",
   "execution_count": 17,
   "id": "94dcfba6",
   "metadata": {},
   "outputs": [
    {
     "data": {
      "text/plain": [
       "(2126, 1500)"
      ]
     },
     "execution_count": 17,
     "metadata": {},
     "output_type": "execute_result"
    }
   ],
   "source": [
    "X.shape"
   ]
  },
  {
   "cell_type": "code",
   "execution_count": 18,
   "id": "4154d6fb",
   "metadata": {},
   "outputs": [],
   "source": [
    "from sklearn.model_selection import train_test_split\n",
    "X_train, X_test, y_train, y_test = train_test_split(X,y,test_size = 0.2, random_state = 3)"
   ]
  },
  {
   "cell_type": "code",
   "execution_count": 20,
   "id": "d85fba26",
   "metadata": {},
   "outputs": [
    {
     "name": "stdout",
     "output_type": "stream",
     "text": [
      "(1700, 1500)\n",
      "\n",
      "(426, 1500)\n"
     ]
    }
   ],
   "source": [
    "print(X_train.shape)\n",
    "print()\n",
    "print(X_test.shape)"
   ]
  },
  {
   "cell_type": "markdown",
   "id": "2b58d503",
   "metadata": {},
   "source": [
    "## LogisticRegression"
   ]
  },
  {
   "cell_type": "code",
   "execution_count": 18,
   "id": "24419ece",
   "metadata": {},
   "outputs": [
    {
     "name": "stdout",
     "output_type": "stream",
     "text": [
      "******** LogisticRegression ********\n",
      "Accuracy is : 0.9765258215962441\n"
     ]
    }
   ],
   "source": [
    "from sklearn.linear_model import LogisticRegression\n",
    "from sklearn.metrics import accuracy_score\n",
    "lr = LogisticRegression()\n",
    "\n",
    "lr.fit(X_train,y_train)\n",
    "y_pred1 = lr.predict(X_test)\n",
    "\n",
    "print(\"******** LogisticRegression ********\")\n",
    "print(f'Accuracy is : {accuracy_score(y_pred1,y_test)}')"
   ]
  },
  {
   "cell_type": "markdown",
   "id": "3f08e2aa",
   "metadata": {},
   "source": [
    "## XGBClassifier"
   ]
  },
  {
   "cell_type": "code",
   "execution_count": 19,
   "id": "e2425d20",
   "metadata": {},
   "outputs": [
    {
     "name": "stdout",
     "output_type": "stream",
     "text": [
      "[12:07:40] WARNING: C:/Users/Administrator/workspace/xgboost-win64_release_1.3.0/src/learner.cc:1061: Starting in XGBoost 1.3.0, the default evaluation metric used with the objective 'multi:softprob' was changed from 'merror' to 'mlogloss'. Explicitly set eval_metric if you'd like to restore the old behavior.\n",
      "******** XGBClassifier ********\n",
      "Accuracy is : 0.9436619718309859\n"
     ]
    }
   ],
   "source": [
    "from xgboost import XGBClassifier\n",
    "xgb = XGBClassifier()\n",
    "\n",
    "xgb.fit(X_train,y_train)\n",
    "y_pred2 = xgb.predict(X_test)\n",
    "\n",
    "print(\"******** XGBClassifier ********\")\n",
    "print(f'Accuracy is : {accuracy_score(y_pred2,y_test)}')"
   ]
  },
  {
   "cell_type": "markdown",
   "id": "0fdbb385",
   "metadata": {},
   "source": [
    "## MultinomialNB"
   ]
  },
  {
   "cell_type": "code",
   "execution_count": 20,
   "id": "074032ef",
   "metadata": {},
   "outputs": [
    {
     "name": "stdout",
     "output_type": "stream",
     "text": [
      "******** MultinomialNB ********\n",
      "Accuracy is : 0.9530516431924883\n"
     ]
    }
   ],
   "source": [
    "from sklearn.naive_bayes import MultinomialNB\n",
    "mnb = MultinomialNB()\n",
    "\n",
    "mnb.fit(X_train,y_train)\n",
    "y_pred3 = mnb.predict(X_test)\n",
    "\n",
    "print(\"******** MultinomialNB ********\")\n",
    "print(f'Accuracy is : {accuracy_score(y_pred3,y_test)}')"
   ]
  },
  {
   "cell_type": "markdown",
   "id": "f727f556",
   "metadata": {},
   "source": [
    "## RandomForestClassifier"
   ]
  },
  {
   "cell_type": "code",
   "execution_count": 21,
   "id": "e7e609c8",
   "metadata": {},
   "outputs": [
    {
     "name": "stdout",
     "output_type": "stream",
     "text": [
      "******** RandomForestClassifier ********\n",
      "Accuracy is : 0.9413145539906104\n"
     ]
    }
   ],
   "source": [
    "from sklearn.ensemble import RandomForestClassifier\n",
    "rf = RandomForestClassifier()\n",
    "\n",
    "rf.fit(X_train,y_train)\n",
    "y_pred4 = rf.predict(X_test)\n",
    "\n",
    "print(\"******** RandomForestClassifier ********\")\n",
    "print(f'Accuracy is : {accuracy_score(y_pred4,y_test)}')"
   ]
  },
  {
   "cell_type": "markdown",
   "id": "e3bacbb7",
   "metadata": {},
   "source": [
    "## Testing on Random Text Data"
   ]
  },
  {
   "cell_type": "code",
   "execution_count": 22,
   "id": "cf6e8634",
   "metadata": {},
   "outputs": [
    {
     "name": "stdout",
     "output_type": "stream",
     "text": [
      "['sport']\n"
     ]
    }
   ],
   "source": [
    "news = tfidf.transform(['IPL 2021: Royal Challengers Bangalore skipper Virat Kohli doffed his hat to AB de Villiers and Glenn Maxwell after their match-winning innings against Kolkata Knight Riders at the MA Chidambaram Stadium in Chennai.'])\n",
    "pred = lr.predict(news)\n",
    "print(pred)"
   ]
  },
  {
   "cell_type": "code",
   "execution_count": 23,
   "id": "c93d45e1",
   "metadata": {},
   "outputs": [
    {
     "name": "stdout",
     "output_type": "stream",
     "text": [
      "['tech']\n"
     ]
    }
   ],
   "source": [
    "news = tfidf.transform(['The simplest form of technology is the development and use of basic tools. The prehistoric discovery of how to control fire and the later Neolithic Revolution increased the available sources of food, and the invention of the wheel helped humans to travel in and control their environment. Developments in historic times, including the printing press, the telephone, and the Internet, have lessened physical barriers to communication and allowed humans to interact freely on a global scale'])\n",
    "pred = lr.predict(news)\n",
    "print(pred)"
   ]
  },
  {
   "cell_type": "code",
   "execution_count": 24,
   "id": "ce6f12ba",
   "metadata": {},
   "outputs": [
    {
     "name": "stdout",
     "output_type": "stream",
     "text": [
      "['sport']\n"
     ]
    }
   ],
   "source": [
    "pred = lr.predict(tfidf.transform(['IPL 2021: Royal Challengers Bangalore skipper Virat Kohli doffed his hat to AB de Villiers and Glenn Maxwell after their match-winning innings against Kolkata Knight Riders at the MA Chidambaram Stadium in Chennai.']))\n",
    "print(pred)"
   ]
  },
  {
   "cell_type": "code",
   "execution_count": null,
   "id": "0d389f9f",
   "metadata": {},
   "outputs": [],
   "source": []
  },
  {
   "cell_type": "markdown",
   "id": "d71941d8",
   "metadata": {},
   "source": [
    "## Pickle Dump"
   ]
  },
  {
   "cell_type": "code",
   "execution_count": 25,
   "id": "c0dd6dbd",
   "metadata": {},
   "outputs": [],
   "source": [
    "import pickle\n",
    "f = open('lr.pickle', 'wb')\n",
    "pickle.dump(lr, f)\n",
    "f.close()\n",
    "\n",
    "f = open('tfidf.pickle', 'wb')\n",
    "pickle.dump(tfidf, f)\n",
    "f.close()"
   ]
  },
  {
   "cell_type": "code",
   "execution_count": null,
   "id": "6cf4ec9f",
   "metadata": {},
   "outputs": [],
   "source": []
  }
 ],
 "metadata": {
  "kernelspec": {
   "display_name": "Python 3",
   "language": "python",
   "name": "python3"
  },
  "language_info": {
   "codemirror_mode": {
    "name": "ipython",
    "version": 3
   },
   "file_extension": ".py",
   "mimetype": "text/x-python",
   "name": "python",
   "nbconvert_exporter": "python",
   "pygments_lexer": "ipython3",
   "version": "3.8.5"
  }
 },
 "nbformat": 4,
 "nbformat_minor": 5
}
